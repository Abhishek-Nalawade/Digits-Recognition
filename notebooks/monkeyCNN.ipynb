{
 "cells": [
  {
   "cell_type": "code",
   "execution_count": 1,
   "metadata": {},
   "outputs": [],
   "source": [
    "import tensorflow as tf\n",
    "import matplotlib.pyplot as plt\n",
    "from tensorflow.keras.models import Sequential\n",
    "from tensorflow.keras import layers"
   ]
  },
  {
   "cell_type": "code",
   "execution_count": 2,
   "metadata": {},
   "outputs": [],
   "source": [
    "train_dir = \"monkeyData/training/training\"\n",
    "test_dir = \"monkeyData/validation/validation\"\n",
    "#data_generator = tf.keras.preprocessing.image.ImageDataGenerator()\n",
    "image_width = 224\n",
    "image_height = 224\n",
    "batch = 16"
   ]
  },
  {
   "cell_type": "code",
   "execution_count": 3,
   "metadata": {},
   "outputs": [
    {
     "name": "stdout",
     "output_type": "stream",
     "text": [
      "Found 1098 images belonging to 10 classes.\n",
      "Found 272 images belonging to 10 classes.\n"
     ]
    }
   ],
   "source": [
    "train_image_generator = tf.keras.preprocessing.image.ImageDataGenerator(rotation_range=30,\n",
    "                              width_shift_range=0.1,\n",
    "                              height_shift_range=0.1,\n",
    "                              rescale=1/255,\n",
    "                              fill_mode='nearest')\n",
    "test_image_generator = tf.keras.preprocessing.image.ImageDataGenerator(rescale=1/255)\n",
    "\n",
    "train_data = train_image_generator.flow_from_directory(train_dir, target_size=(image_height,image_width),batch_size=batch,)\n",
    "test_data = test_image_generator.flow_from_directory(test_dir, target_size=(image_height,image_width),batch_size=batch)"
   ]
  },
  {
   "cell_type": "code",
   "execution_count": 4,
   "metadata": {},
   "outputs": [],
   "source": [
    "model = Sequential()\n",
    "model.add(layers.Conv2D(filters=4,kernel_size=5,padding=\"valid\",activation='relu',input_shape=(image_height,image_width,3)))\n",
    "model.add(layers.MaxPooling2D(pool_size=(2,2),strides=2))\n",
    "model.add(layers.Conv2D(filters=12,kernel_size=5,padding=\"valid\",activation='relu'))\n",
    "model.add(layers.MaxPooling2D(pool_size=(2,2),strides=2))\n",
    "model.add(layers.Flatten())\n",
    "model.add(layers.Dense(units=180,activation=\"relu\"))\n",
    "model.add(layers.Dense(units=10, activation=\"softmax\"))"
   ]
  },
  {
   "cell_type": "code",
   "execution_count": 5,
   "metadata": {},
   "outputs": [
    {
     "name": "stdout",
     "output_type": "stream",
     "text": [
      "Model: \"sequential\"\n",
      "_________________________________________________________________\n",
      " Layer (type)                Output Shape              Param #   \n",
      "=================================================================\n",
      " conv2d (Conv2D)             (None, 220, 220, 4)       304       \n",
      "                                                                 \n",
      " max_pooling2d (MaxPooling2D  (None, 110, 110, 4)      0         \n",
      " )                                                               \n",
      "                                                                 \n",
      " conv2d_1 (Conv2D)           (None, 106, 106, 12)      1212      \n",
      "                                                                 \n",
      " max_pooling2d_1 (MaxPooling  (None, 53, 53, 12)       0         \n",
      " 2D)                                                             \n",
      "                                                                 \n",
      " flatten (Flatten)           (None, 33708)             0         \n",
      "                                                                 \n",
      " dense (Dense)               (None, 180)               6067620   \n",
      "                                                                 \n",
      " dense_1 (Dense)             (None, 10)                1810      \n",
      "                                                                 \n",
      "=================================================================\n",
      "Total params: 6,070,946\n",
      "Trainable params: 6,070,946\n",
      "Non-trainable params: 0\n",
      "_________________________________________________________________\n"
     ]
    }
   ],
   "source": [
    "model.summary()"
   ]
  },
  {
   "cell_type": "code",
   "execution_count": 6,
   "metadata": {},
   "outputs": [
    {
     "name": "stdout",
     "output_type": "stream",
     "text": [
      "Epoch 1/5\n",
      "68/68 [==============================] - 41s 590ms/step - loss: 2.4540 - accuracy: 0.1479\n",
      "Epoch 2/5\n",
      "68/68 [==============================] - 41s 610ms/step - loss: 1.9419 - accuracy: 0.3152\n",
      "Epoch 3/5\n",
      "68/68 [==============================] - 39s 575ms/step - loss: 1.6784 - accuracy: 0.3808\n",
      "Epoch 4/5\n",
      "68/68 [==============================] - 33s 487ms/step - loss: 1.5085 - accuracy: 0.4566\n",
      "Epoch 5/5\n",
      "68/68 [==============================] - 34s 490ms/step - loss: 1.4716 - accuracy: 0.4677\n"
     ]
    }
   ],
   "source": [
    "model.compile(optimizer=\"adam\", loss=\"categorical_crossentropy\",metrics=['accuracy'])\n",
    "train_accu_data = model.fit(train_data,epochs=5,steps_per_epoch=1098//batch)"
   ]
  },
  {
   "cell_type": "code",
   "execution_count": null,
   "metadata": {},
   "outputs": [],
   "source": [
    "test_accu_data = model.evaluate(train_data)"
   ]
  },
  {
   "cell_type": "code",
   "execution_count": null,
   "metadata": {},
   "outputs": [],
   "source": [
    "plt.plot(train_accu_data.history['accuracy'])\n",
    "\n",
    "plt.title('model accuracy')\n",
    "plt.ylabel('accuracy')\n",
    "plt.xlabel('epoch')\n",
    "plt.legend(['train'], loc='upper left')\n",
    "plt.grid()\n",
    "plt.show()"
   ]
  },
  {
   "cell_type": "code",
   "execution_count": null,
   "metadata": {},
   "outputs": [],
   "source": []
  }
 ],
 "metadata": {
  "kernelspec": {
   "display_name": "Python 3",
   "language": "python",
   "name": "python3"
  },
  "language_info": {
   "codemirror_mode": {
    "name": "ipython",
    "version": 3
   },
   "file_extension": ".py",
   "mimetype": "text/x-python",
   "name": "python",
   "nbconvert_exporter": "python",
   "pygments_lexer": "ipython3",
   "version": "3.8.5"
  }
 },
 "nbformat": 4,
 "nbformat_minor": 4
}
