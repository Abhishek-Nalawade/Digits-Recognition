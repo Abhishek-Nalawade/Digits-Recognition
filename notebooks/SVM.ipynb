{
 "cells": [
  {
   "cell_type": "markdown",
   "metadata": {},
   "source": [
    "# Support Vector Machine"
   ]
  },
  {
   "cell_type": "markdown",
   "metadata": {},
   "source": [
    "## SVM with Polynomial kernel"
   ]
  },
  {
   "cell_type": "code",
   "execution_count": 39,
   "metadata": {},
   "outputs": [],
   "source": [
    "from keras.datasets import mnist\n",
    "import numpy as np\n",
    "from sklearn.preprocessing import StandardScaler\n",
    "from sklearn.svm import SVC\n",
    "from sklearn.metrics import classification_report, accuracy_score, confusion_matrix\n",
    "from sklearn.decomposition import PCA\n",
    "from sklearn.discriminant_analysis import LinearDiscriminantAnalysis as LDA\n",
    "import matplotlib.pyplot as plt"
   ]
  },
  {
   "cell_type": "code",
   "execution_count": 40,
   "metadata": {},
   "outputs": [],
   "source": [
    "def load_data():\n",
    "    (Xtrain, Ytrain), (Xtest, Ytest) = mnist.load_data()\n",
    "    print(\"Xtrain shape: \", Xtrain.shape)\n",
    "    print(\"Ytrain shape: \", Ytrain.shape)\n",
    "    print(\"Xtest shape: \", Xtest.shape)\n",
    "    print(\"Ytest shape: \", Ytest.shape)\n",
    "    return Xtrain, Ytrain, Xtest, Ytest"
   ]
  },
  {
   "cell_type": "code",
   "execution_count": 41,
   "metadata": {},
   "outputs": [],
   "source": [
    "def prepare_data(Xtrain, Xtest):\n",
    "    Xtrain = Xtrain/255\n",
    "    Xtest = Xtest/255\n",
    "    plt.imshow(Xtrain[2], cmap='gray')\n",
    "    plt.show()\n",
    "    Xtrain = np.reshape(Xtrain, (Xtrain.shape[0], Xtrain.shape[1]*Xtrain.shape[2]))\n",
    "    Xtest = np.reshape(Xtest, (Xtest.shape[0], Xtest.shape[1]*Xtest.shape[2]))\n",
    "    print(\"Xtrain after reshaping\", Xtrain.shape)\n",
    "    print(\"Xtest after reshaping\", Xtest.shape)\n",
    "    scalar = StandardScaler()\n",
    "    Xtrain = scalar.fit_transform(Xtrain)\n",
    "    Xtest = scalar.fit_transform(Xtest)\n",
    "    return Xtrain, Xtest"
   ]
  },
  {
   "cell_type": "code",
   "execution_count": 42,
   "metadata": {},
   "outputs": [],
   "source": [
    "def train(Xtrain, Ytrain):\n",
    "    model = SVC(C=1, kernel=\"poly\")\n",
    "    model.fit(Xtrain, Ytrain)\n",
    "    return model"
   ]
  },
  {
   "cell_type": "code",
   "execution_count": 43,
   "metadata": {},
   "outputs": [],
   "source": [
    "def predict(model, Xtest, Ytest):\n",
    "    prediction = model.predict(Xtest)\n",
    "    print(\"Accuracy is: \", accuracy_score(y_true=Ytest, y_pred=prediction))\n",
    "    return"
   ]
  },
  {
   "cell_type": "code",
   "execution_count": 44,
   "metadata": {},
   "outputs": [
    {
     "name": "stdout",
     "output_type": "stream",
     "text": [
      "Xtrain shape:  (60000, 28, 28)\n",
      "Ytrain shape:  (60000,)\n",
      "Xtest shape:  (10000, 28, 28)\n",
      "Ytest shape:  (10000,)\n"
     ]
    },
    {
     "data": {
      "image/png": "[encoded data removed]",
      "text/plain": [
       "<Figure size 432x288 with 1 Axes>"
      ]
     },
     "metadata": {
      "needs_background": "light"
     },
     "output_type": "display_data"
    },
    {
     "name": "stdout",
     "output_type": "stream",
     "text": [
      "Xtrain after reshaping (60000, 784)\n",
      "Xtest after reshaping (10000, 784)\n",
      "Accuracy is:  0.9611\n"
     ]
    }
   ],
   "source": [
    "Xtrain, Ytrain, Xtest, Ytest = load_data()\n",
    "Xtrain, Xtest = prepare_data(Xtrain, Xtest)\n",
    "model = train(Xtrain, Ytrain)\n",
    "predict(model, Xtest, Ytest)"
   ]
  },
  {
   "cell_type": "markdown",
   "metadata": {},
   "source": [
    "## SVM with Polynomial kernel and PCA"
   ]
  },
  {
   "cell_type": "code",
   "execution_count": 34,
   "metadata": {},
   "outputs": [],
   "source": [
    "def prepare_PCA_data(Xtrain, Xtest):\n",
    "    pca = PCA(n_components=0.97)\n",
    "    Xtrain_pca = pca.fit_transform(Xtrain)\n",
    "    Xtest_pca = pca.transform(Xtest)\n",
    "    return Xtrain_pca, Xtest_pca"
   ]
  },
  {
   "cell_type": "code",
   "execution_count": 35,
   "metadata": {},
   "outputs": [],
   "source": [
    "def train_PCA(Xtrain_pca, Ytrain):\n",
    "    pca_model = SVC(C=1, kernel=\"poly\")\n",
    "    pca_model.fit(Xtrain_pca, Ytrain)\n",
    "    return pca_model"
   ]
  },
  {
   "cell_type": "code",
   "execution_count": 37,
   "metadata": {},
   "outputs": [],
   "source": [
    "def predict_PCA(pca_model, Xtest_pca, Ytest):\n",
    "    pred_pca = pca_model.predict(Xtest_pca)\n",
    "    print(\"Accuracy with PCA is: \", accuracy_score(y_true=Ytest, y_pred=pred_pca))\n",
    "    return"
   ]
  },
  {
   "cell_type": "code",
   "execution_count": 38,
   "metadata": {},
   "outputs": [
    {
     "name": "stdout",
     "output_type": "stream",
     "text": [
      "Accuracy with PCA is:  0.9624\n"
     ]
    }
   ],
   "source": [
    "Xtrain_pca, Xtest_pca = prepare_PCA_data(Xtrain, Xtest)\n",
    "pca_model = train_PCA(Xtrain_pca, Ytrain)\n",
    "predict_PCA(pca_model, Xtest_pca, Ytest)"
   ]
  },
  {
   "cell_type": "markdown",
   "metadata": {},
   "source": [
    "## SVM with Polynomial kernel and LDA"
   ]
  },
  {
   "cell_type": "code",
   "execution_count": 30,
   "metadata": {},
   "outputs": [],
   "source": [
    "def prepare_LDA_data(Xtrain, Ytrain):\n",
    "    lda = LDA(n_components=9)\n",
    "    Xtrain_lda = lda.fit_transform(Xtrain, Ytrain)  \n",
    "    Xtest_lda = lda.transform(Xtest)\n",
    "    return Xtrain_lda, Xtest_lda"
   ]
  },
  {
   "cell_type": "code",
   "execution_count": 31,
   "metadata": {},
   "outputs": [],
   "source": [
    "def train_LDA(Xtrain_lda, Ytrain):\n",
    "    lda_model = SVC(C=1,kernel=\"poly\")\n",
    "    lda_model.fit(Xtrain_lda, Ytrain)\n",
    "    return lda_model"
   ]
  },
  {
   "cell_type": "code",
   "execution_count": 32,
   "metadata": {},
   "outputs": [],
   "source": [
    "def predict_LDA(lda_model, Xtest_lda, Ytest):\n",
    "    pred_lda = lda_model.predict(Xtest_lda)\n",
    "    print(\"Accuracy with LDA is: \", accuracy_score(y_true=Ytest, y_pred=pred_lda))\n",
    "    return"
   ]
  },
  {
   "cell_type": "code",
   "execution_count": 33,
   "metadata": {},
   "outputs": [
    {
     "name": "stdout",
     "output_type": "stream",
     "text": [
      "Accuracy with LDA is:  0.9088\n"
     ]
    }
   ],
   "source": [
    "Xtrain_lda, Xtest_lda = prepare_LDA_data(Xtrain, Ytrain)\n",
    "lda_model = train_LDA(Xtrain_lda, Ytrain)\n",
    "predict_LDA(lda_model, Xtest_lda, Ytest)"
   ]
  },
  {
   "cell_type": "code",
   "execution_count": null,
   "metadata": {},
   "outputs": [],
   "source": []
  }
 ],
 "metadata": {
  "kernelspec": {
   "display_name": "Python 3",
   "language": "python",
   "name": "python3"
  },
  "language_info": {
   "codemirror_mode": {
    "name": "ipython",
    "version": 3
   },
   "file_extension": ".py",
   "mimetype": "text/x-python",
   "name": "python",
   "nbconvert_exporter": "python",
   "pygments_lexer": "ipython3",
   "version": "3.8.5"
  }
 },
 "nbformat": 4,
 "nbformat_minor": 4
}
